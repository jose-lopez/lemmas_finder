{
 "cells": [
  {
   "cell_type": "code",
   "execution_count": null,
   "metadata": {},
   "outputs": [],
   "source": [
    "# Uncomment if you are running the notebook on Google Colab.\n",
    "# ! git clone https://github.com/jose-lopez/lemmas_finder.git"
   ]
  },
  {
   "cell_type": "code",
   "execution_count": null,
   "metadata": {},
   "outputs": [],
   "source": [
    "import os\n",
    "\n",
    "with os.popen(\"google-chrome --version\") as f:\n",
    "    browser = f.readlines()[0]\n",
    "\n",
    "if not browser:\n",
    "\n",
    "  try:\n",
    "\n",
    "    print(os.popen('wget https://dl.google.com/linux/direct/google-chrome-stable_current_amd64.deb').read())\n",
    "    print(os.popen('apt install ./google-chrome-stable_current_amd64.deb').read())\n",
    "\n",
    "  except Exception as exc:\n",
    "\n",
    "      print(exc)\n",
    "\n",
    "  else:\n",
    "\n",
    "    with os.popen(\"google-chrome --version\") as f:\n",
    "        browser = f.readlines()[0]\n",
    "\n",
    "print(f'Google version installed= {browser}')"
   ]
  },
  {
   "cell_type": "code",
   "execution_count": null,
   "metadata": {
    "colab": {
     "base_uri": "https://localhost:8080/"
    },
    "id": "UdmAbdbXVG0F",
    "outputId": "a13ff8f7-dd43-4f7b-a43a-82868bf07027"
   },
   "outputs": [],
   "source": [
    "! pip install webdriver-manager"
   ]
  },
  {
   "cell_type": "code",
   "execution_count": null,
   "metadata": {
    "colab": {
     "base_uri": "https://localhost:8080/"
    },
    "id": "oYBNUlvsXMBG",
    "outputId": "b813859d-d8a6-4b45-8b0c-82c2c9807cfb"
   },
   "outputs": [],
   "source": [
    "! pip install selenium"
   ]
  },
  {
   "cell_type": "code",
   "execution_count": null,
   "metadata": {},
   "outputs": [],
   "source": [
    "pip install pandas"
   ]
  },
  {
   "cell_type": "code",
   "execution_count": null,
   "metadata": {
    "id": "BduH8VVtXxf4"
   },
   "outputs": [],
   "source": [
    "from selenium import webdriver\n",
    "from selenium.webdriver.chrome.service import Service as ChromeService\n",
    "from webdriver_manager.chrome import ChromeDriverManager\n",
    "from selenium.webdriver.common.by import By\n",
    "from selenium.webdriver.support.wait import WebDriverWait\n",
    "from selenium.webdriver.support import expected_conditions as EC\n",
    "from selenium.common.exceptions import NoSuchElementException, TimeoutException\n",
    "from urllib.parse import quote\n",
    "from os import path\n",
    "from pathlib import Path\n",
    "import os\n",
    "import pandas as pd\n",
    "from numpy.core.numeric import nan\n",
    "import re"
   ]
  },
  {
   "cell_type": "code",
   "execution_count": null,
   "metadata": {
    "id": "7kcwArXWX2AB"
   },
   "outputs": [],
   "source": [
    "def get_browser():\n",
    "\n",
    "    chrome_options = webdriver.ChromeOptions()\n",
    "\n",
    "    chrome_options.add_argument('--no-sandbox')\n",
    "    chrome_options.add_argument('--disable-dev-shm-usage')\n",
    "\n",
    "    chrome_options.add_argument(\"--headless=new\")\n",
    "\n",
    "    browser = webdriver.Chrome(service=ChromeService(ChromeDriverManager().install()), options=chrome_options)\n",
    "\n",
    "    return browser"
   ]
  },
  {
   "cell_type": "code",
   "execution_count": null,
   "metadata": {
    "id": "05npqYnsX7sE"
   },
   "outputs": [],
   "source": [
    "def get_lemma(browser, file, line, token, logs):\n",
    "\n",
    "    url_base = \"https://logeion.uchicago.edu/morpho/\"\n",
    "\n",
    "    url = url_base + quote(token)\n",
    "\n",
    "    browser.get(url)  # navigate to URL\n",
    "\n",
    "    try:\n",
    "\n",
    "        # Waiting for a totally deployed URL.\n",
    "\n",
    "        WebDriverWait(browser, 10).until(EC.text_to_be_present_in_element((By.TAG_NAME, \"h3\"), \"Short Definition\"))\n",
    "\n",
    "    except NoSuchElementException:\n",
    "\n",
    "        lemma = nan\n",
    "\n",
    "        logs.write(f'An exception of type NoSuchElementException in File: {file} at line: {line}, token {token}' + \"\\n\")\n",
    "\n",
    "    except TimeoutException:\n",
    "\n",
    "        lemma = nan\n",
    "\n",
    "        logs.write(f'An exception of type TimeoutException in File: {file} at line: {line}, token {token}' + \"\\n\")\n",
    "\n",
    "    else:\n",
    "\n",
    "        lemma = browser.find_element(By.CSS_SELECTOR, 'a.ng-binding').text\n",
    "\n",
    "        invalid_lemma = re.search(r'[a-zA-Z0-9]+', lemma)\n",
    "\n",
    "        if invalid_lemma:\n",
    "\n",
    "            lemma = nan\n",
    "\n",
    "    finally:\n",
    "\n",
    "        return lemma"
   ]
  },
  {
   "cell_type": "code",
   "execution_count": null,
   "metadata": {
    "id": "k-WyyGXbYCD4"
   },
   "outputs": [],
   "source": [
    "def check_warning(token, lemma):\n",
    "\n",
    "    warning = None\n",
    "\n",
    "    invalid_token = re.search(r'[a-zA-Z0-9]+', token)\n",
    "\n",
    "    if lemma is not nan:\n",
    "\n",
    "        invalid_lemma = re.search(r'[a-zA-Z0-9]+', lemma)\n",
    "\n",
    "    else:\n",
    "\n",
    "        invalid_lemma = None\n",
    "\n",
    "    if invalid_token and not invalid_lemma:\n",
    "\n",
    "        warning = 1\n",
    "\n",
    "    if not invalid_token and invalid_lemma:\n",
    "\n",
    "        warning = 2\n",
    "\n",
    "    if invalid_token and invalid_lemma:\n",
    "\n",
    "        warning = 3\n",
    "\n",
    "    return warning"
   ]
  },
  {
   "cell_type": "code",
   "execution_count": null,
   "metadata": {
    "colab": {
     "base_uri": "https://localhost:8080/"
    },
    "id": "LM3gYQZ0Zmz7",
    "outputId": "f8ac7712-7b5e-4db8-fa71-f21d32c43e10"
   },
   "outputs": [],
   "source": [
    "! ls -l"
   ]
  },
  {
   "cell_type": "code",
   "execution_count": null,
   "metadata": {
    "colab": {
     "base_uri": "https://localhost:8080/"
    },
    "id": "no4myTNPaLg9",
    "outputId": "e23a192d-a342-436b-f144-961e80d35fa2"
   },
   "outputs": [],
   "source": [
    "! pwd\n"
   ]
  },
  {
   "cell_type": "code",
   "execution_count": null,
   "metadata": {
    "id": "frKo7lBzYHVY"
   },
   "outputs": [],
   "source": [
    "folders = ['processed', 'warnings', 'logs']\n",
    "\n",
    "# Uncomment if you are running the notebook on Google Colab\n",
    "root = \"./lemmas_finder/text/\"\n",
    "\n",
    "# Uncomment if you are running the notebook your own Jupyter Kernel\n",
    "root = \"./text/\"\n",
    "\n",
    "corpus = root + \"corpus\"\n",
    "\n",
    "for folder in folders:\n",
    "\n",
    "  _path = root + folder\n",
    "  if not path.exists(_path):\n",
    "    os.mkdir(_path)"
   ]
  },
  {
   "cell_type": "code",
   "execution_count": null,
   "metadata": {
    "colab": {
     "base_uri": "https://localhost:8080/"
    },
    "id": "PMhYDHogbU19",
    "outputId": "07865f80-9244-4c81-b43b-c5f610df885d"
   },
   "outputs": [],
   "source": [
    "# ls -l ./lemmas_finder/text/corpus\n",
    "! ls -l ./text/corpus"
   ]
  },
  {
   "cell_type": "code",
   "execution_count": null,
   "metadata": {},
   "outputs": [],
   "source": [
    "browser = get_browser()"
   ]
  },
  {
   "cell_type": "code",
   "execution_count": null,
   "metadata": {
    "colab": {
     "base_uri": "https://localhost:8080/",
     "height": 1000
    },
    "id": "q7Bpc9Elblj5",
    "outputId": "655e64b1-3fe4-4a86-f557-61d959913939"
   },
   "outputs": [],
   "source": [
    "files = [str(x) for x in Path(corpus).glob(\"**/*.csv\")]\n",
    "\n",
    "files_to_process = len(files)\n",
    "\n",
    "warnings_in_file = []\n",
    "\n",
    "processed_files = 0\n",
    "\n",
    "for file in files:\n",
    "\n",
    "  file_name = \"/\" + file.split(\"/\")[-1]\n",
    "\n",
    "  processed_files += 1\n",
    "\n",
    "  processed_file = root + folders[0] + file_name\n",
    "\n",
    "  warnings_file = root + folders[1] + file_name\n",
    "\n",
    "  logs_file = root + folders[2] + file_name\n",
    "\n",
    "  logs = open(\n",
    "      logs_file, 'w', encoding=\"utf8\")\n",
    "\n",
    "  input_df = pd.read_csv(file)\n",
    "\n",
    "  print(f'Getting lemmas for {file} file: {processed_files} | {files_to_process}' + \"\\n\")\n",
    "\n",
    "  for x in input_df.index:\n",
    "\n",
    "    token = input_df.loc[x, \"token\"]\n",
    "\n",
    "    lemma = input_df.loc[x, \"lemma\"]\n",
    "\n",
    "    warning = check_warning(token, lemma)\n",
    "\n",
    "    if warning:\n",
    "\n",
    "      warnings_in_file.append([x, token, lemma, warning])\n",
    "\n",
    "    if lemma is nan:\n",
    "\n",
    "      lemma = get_lemma(browser, file, x, token, logs)\n",
    "\n",
    "      print(f'token = {token}   lemma = {lemma}' + \"\\n\")\n",
    "\n",
    "      input_df.loc[x, \"lemma\"] = lemma\n",
    "\n",
    "  input_df.to_csv(processed_file)\n",
    "\n",
    "  # Building the warnings' file, if there are any, for the actual file in process.\n",
    "\n",
    "  if len(warnings_in_file) != 0:\n",
    "\n",
    "    print(f'Errors found in {file} file. A report in {warnings_file}')\n",
    "\n",
    "    warnings_df = pd.DataFrame(warnings_in_file, columns=['line', 'token', 'lemma', 'error_type'])\n",
    "\n",
    "    warnings_df.to_csv(warnings_file)\n",
    "\n",
    "  logs.close()\n",
    "\n",
    "print(f'..... done')"
   ]
  },
  {
   "cell_type": "code",
   "execution_count": null,
   "metadata": {},
   "outputs": [],
   "source": []
  }
 ],
 "metadata": {
  "colab": {
   "provenance": []
  },
  "kernelspec": {
   "display_name": "Python 3",
   "language": "python",
   "name": "python3"
  },
  "language_info": {
   "codemirror_mode": {
    "name": "ipython",
    "version": 3
   },
   "file_extension": ".py",
   "mimetype": "text/x-python",
   "name": "python",
   "nbconvert_exporter": "python",
   "pygments_lexer": "ipython3",
   "version": "3.9.17"
  }
 },
 "nbformat": 4,
 "nbformat_minor": 4
}
